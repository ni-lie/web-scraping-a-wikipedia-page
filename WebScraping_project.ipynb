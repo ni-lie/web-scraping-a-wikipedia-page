{
  "nbformat": 4,
  "nbformat_minor": 0,
  "metadata": {
    "colab": {
      "provenance": [],
      "authorship_tag": "ABX9TyNXvYJ0jeZ5kE+AD7dEcOeS",
      "include_colab_link": true
    },
    "kernelspec": {
      "name": "python3",
      "display_name": "Python 3"
    },
    "language_info": {
      "name": "python"
    }
  },
  "cells": [
    {
      "cell_type": "markdown",
      "metadata": {
        "id": "view-in-github",
        "colab_type": "text"
      },
      "source": [
        "<a href=\"https://colab.research.google.com/github/ni-lie/web-scraping-a-wikipedia-page/blob/main/WebScraping_project.ipynb\" target=\"_parent\"><img src=\"https://colab.research.google.com/assets/colab-badge.svg\" alt=\"Open In Colab\"/></a>"
      ]
    },
    {
      "cell_type": "markdown",
      "source": [
        "# Scraping Data from a website + Pandas\n"
      ],
      "metadata": {
        "id": "E4ADQ9B8ypF8"
      }
    },
    {
      "cell_type": "code",
      "execution_count": 1,
      "metadata": {
        "id": "SIp4z1BTyLSX"
      },
      "outputs": [],
      "source": [
        "from bs4 import BeautifulSoup\n",
        "import requests"
      ]
    },
    {
      "cell_type": "code",
      "source": [
        "url = 'https://en.wikipedia.org/wiki/List_of_largest_companies_in_the_United_States_by_revenue'\n",
        "page = requests.get(url)\n",
        "\n",
        "soup = BeautifulSoup(page.text, 'html')"
      ],
      "metadata": {
        "id": "AIn5lIHTy9pt"
      },
      "execution_count": 2,
      "outputs": []
    },
    {
      "cell_type": "code",
      "source": [
        "print(soup)"
      ],
      "metadata": {
        "id": "CQWNLmJGzLPo"
      },
      "execution_count": null,
      "outputs": []
    },
    {
      "cell_type": "markdown",
      "source": [
        "# Get your desired table\n",
        "Through the use of inspect element, we can view the specific table where we want to extract data from.\n"
      ],
      "metadata": {
        "id": "1fZ_XTeN1g5E"
      }
    },
    {
      "cell_type": "code",
      "source": [
        "table = soup.find_all('table')[1]"
      ],
      "metadata": {
        "id": "jmqXiTzr1n8x"
      },
      "execution_count": 4,
      "outputs": []
    },
    {
      "cell_type": "code",
      "source": [
        "print(table)"
      ],
      "metadata": {
        "id": "t-MCQRDe2TlH"
      },
      "execution_count": null,
      "outputs": []
    }
  ]
}